{
 "cells": [
  {
   "cell_type": "code",
   "execution_count": 1,
   "metadata": {},
   "outputs": [],
   "source": [
    "import numpy as np\n",
    "import pandas as pd"
   ]
  },
  {
   "cell_type": "markdown",
   "metadata": {},
   "source": [
    "$$\n",
    "\\begin{align*}\n",
    "X &= \\text{input}\\\\\n",
    "Z_1 &= W_1 X + b_1\\\\\n",
    "A_1 &= \\text{ReLU}(Z_1)\\\\\n",
    "Z_2 &= W_2 A_1 + b_2\\\\\n",
    "A_2 &= \\text{softmax}(Z_2)\n",
    "\\end{align*}\n",
    "$$"
   ]
  },
  {
   "cell_type": "code",
   "execution_count": 268,
   "metadata": {},
   "outputs": [],
   "source": [
    "def ReLU(X):\n",
    "    return np.maximum(0, X)\n",
    "\n",
    "def dReLU(X):\n",
    "    return X > 0\n",
    "\n",
    "def softmax(X):\n",
    "    C = np.max(X, axis=0, keepdims=True) # subtract max for numerical stability\n",
    "    e = np.exp(X-C)\n",
    "    return e / np.sum(e, axis=0, keepdims=True)\n",
    "\n",
    "def one_hot(Y):\n",
    "    hot = np.zeros((Y.size, Y.max()+1))\n",
    "    hot[np.arange(Y.size), Y] = 1\n",
    "    return hot.T\n",
    "\n",
    "def forward_propagate(W1, b1, W2, b2, X):\n",
    "    Z1 = W1 @ X + b1\n",
    "    A1 = ReLU(Z1)\n",
    "    Z2 = W2 @ A1 + b2\n",
    "    A2 = softmax(Z2)\n",
    "    return Z1, A1, A2\n",
    "\n",
    "def backward_propagate(W2, Z1, A1, A2, X, Y):\n",
    "    m = Y.size\n",
    "    Y = one_hot(Y)\n",
    "    dZ2 = A2 - Y\n",
    "    dZ1 = W2.T @ dZ2 * dReLU(Z1)\n",
    "    dW1 = 1/m * dZ1 @ X.T\n",
    "    db1 = 1/m * np.sum(dZ1, axis=1, keepdims=True)\n",
    "    dW2 = 1/m * dZ2 @ A1.T\n",
    "    db2 = 1/m * np.sum(dZ2, axis=1, keepdims=True)\n",
    "    return dW1, db1, dW2, db2\n",
    "\n",
    "def initialize_parameters():\n",
    "    W1 = np.random.rand(10, 784) - 0.5\n",
    "    b1 = np.random.rand(10, 1) - 0.5\n",
    "    W2 = np.random.rand(10, 10) - 0.5\n",
    "    b2 = np.random.rand(10, 1) - 0.5\n",
    "    return W1, b1, W2, b2\n",
    "\n",
    "def update_parameters(W1, b1, W2, b2, dW1, db1, dW2, db2, lr):\n",
    "    W1 -= lr * dW1\n",
    "    b1 -= lr * db1\n",
    "    W2 -= lr * dW2\n",
    "    b2 -= lr * db2\n",
    "    return W1, b1, W2, b2"
   ]
  },
  {
   "cell_type": "code",
   "execution_count": 269,
   "metadata": {},
   "outputs": [],
   "source": [
    "def generate_data(train, test):\n",
    "    train, test = np.array(train), np.array(test)\n",
    "    np.random.shuffle(train)\n",
    "    train, test = train.T, test.T\n",
    "    train_labels, train_data = train[0], train[1:]\n",
    "    test_labels, test_data = np.array(test)[0], np.array(test)[1:]\n",
    "    train_data = train_data / 255.0\n",
    "    test_data = test_data / 255.0\n",
    "    return train_labels, train_data, test_labels, test_data"
   ]
  },
  {
   "cell_type": "code",
   "execution_count": 270,
   "metadata": {},
   "outputs": [],
   "source": [
    "def get_predictions(A2):\n",
    "    return np.argmax(A2, axis=0)\n",
    "\n",
    "def get_accuracy(Y_prediction, Y_true):\n",
    "    return np.sum(Y_prediction == Y_true) / Y_true.size\n",
    "\n",
    "def gradient_descent(X, Y, learning_rate, iterations):\n",
    "    W1, b1, W2, b2 = initialize_parameters()\n",
    "    for i in range(iterations):\n",
    "        Z1, A1, A2 = forward_propagate(W1, b1, W2, b2, X)\n",
    "        dW1, db1, dW2, db2 = backward_propagate(W2, Z1, A1, A2, X, Y)\n",
    "        W1, b1, W2, b2 = update_parameters(W1, b1, W2, b2, dW1, db1, dW2, db2, learning_rate)\n",
    "        \n",
    "        if i % 100 == 0:\n",
    "            print(f\"Iteration:\\t{i}\")\n",
    "            predictions = get_predictions(A2)\n",
    "            print(f\"Accuracy:\\t{get_accuracy(predictions, Y):.2%}\\n\")\n",
    "\n",
    "    predictions = get_predictions(A2)\n",
    "    print(f\"Final Accuracy:\\t{get_accuracy(predictions, Y):.2%}\")\n",
    "\n",
    "    return W1, b1, W2, b2\n"
   ]
  },
  {
   "cell_type": "code",
   "execution_count": 271,
   "metadata": {},
   "outputs": [
    {
     "name": "stdout",
     "output_type": "stream",
     "text": [
      "Iteration:\t0\n",
      "Accuracy:\t10.54%\n",
      "\n",
      "Iteration:\t100\n",
      "Accuracy:\t66.70%\n",
      "\n",
      "Iteration:\t200\n",
      "Accuracy:\t76.85%\n",
      "\n",
      "Iteration:\t300\n",
      "Accuracy:\t80.96%\n",
      "\n",
      "Iteration:\t400\n",
      "Accuracy:\t83.26%\n",
      "\n",
      "Final Accuracy:\t84.67%\n"
     ]
    }
   ],
   "source": [
    "train = pd.read_csv(\"../data/mnist_train.csv\")\n",
    "test = pd.read_csv(\"../data/mnist_test.csv\")\n",
    "\n",
    "train_labels, train_data, test_labels, test_data = generate_data(train, test)\n",
    "train_data, train_labels = train_data, train_labels\n",
    "\n",
    "W1, b1, W2, b2 = gradient_descent(train_data, train_labels, 0.1, 500)"
   ]
  },
  {
   "cell_type": "code",
   "execution_count": 272,
   "metadata": {},
   "outputs": [],
   "source": [
    "def make_predictions(X, W1, b1, W2, b2):\n",
    "    _, _, A2 = forward_propagate(W1, b1, W2, b2, X)\n",
    "    predictions = get_predictions(A2)\n",
    "    return predictions"
   ]
  },
  {
   "cell_type": "code",
   "execution_count": 273,
   "metadata": {},
   "outputs": [
    {
     "name": "stdout",
     "output_type": "stream",
     "text": [
      "Accuracy on test data:\t85.48%\n"
     ]
    }
   ],
   "source": [
    "predictions = make_predictions(test_data, W1, b1, W2, b2)\n",
    "accuracy = get_accuracy(predictions, test_labels)\n",
    "print(f\"Accuracy on test data:\\t{accuracy:.2%}\")"
   ]
  }
 ],
 "metadata": {
  "kernelspec": {
   "display_name": "pytorch",
   "language": "python",
   "name": "python3"
  },
  "language_info": {
   "codemirror_mode": {
    "name": "ipython",
    "version": 3
   },
   "file_extension": ".py",
   "mimetype": "text/x-python",
   "name": "python",
   "nbconvert_exporter": "python",
   "pygments_lexer": "ipython3",
   "version": "3.10.8"
  }
 },
 "nbformat": 4,
 "nbformat_minor": 2
}
